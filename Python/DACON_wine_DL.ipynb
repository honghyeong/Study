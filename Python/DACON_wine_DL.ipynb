{
 "cells": [
  {
   "cell_type": "code",
   "execution_count": 1,
   "metadata": {},
   "outputs": [
    {
     "name": "stdout",
     "output_type": "stream",
     "text": [
      "시드 고정 : 12\n"
     ]
    }
   ],
   "source": [
    "# 필수 라이브러리\n",
    "import pandas as pd\n",
    "import numpy as np\n",
    "import random\n",
    "import tensorflow as tf\n",
    "\n",
    "# 랜덤 시드 고정\n",
    "SEED=12\n",
    "random.seed(SEED)\n",
    "tf.random.set_seed(SEED)\n",
    "np.random.seed(SEED)\n",
    "\n",
    "print(\"시드 고정 :\",SEED)\n"
   ]
  },
  {
   "cell_type": "markdown",
   "metadata": {},
   "source": [
    "# 데이터 전처리\n"
   ]
  },
  {
   "cell_type": "code",
   "execution_count": 2,
   "metadata": {},
   "outputs": [
    {
     "name": "stdout",
     "output_type": "stream",
     "text": [
      "(5497, 14) (1000, 13) (1000, 2)\n"
     ]
    }
   ],
   "source": [
    "train=pd.read_csv('data/train.csv')\n",
    "test=pd.read_csv('data/test.csv')\n",
    "\n",
    "submission=pd.read_csv('data/sample_submission.csv')\n",
    "\n",
    "print(train.shape,test.shape,submission.shape)"
   ]
  },
  {
   "cell_type": "code",
   "execution_count": 3,
   "metadata": {},
   "outputs": [
    {
     "data": {
      "text/html": [
       "<div>\n",
       "<style scoped>\n",
       "    .dataframe tbody tr th:only-of-type {\n",
       "        vertical-align: middle;\n",
       "    }\n",
       "\n",
       "    .dataframe tbody tr th {\n",
       "        vertical-align: top;\n",
       "    }\n",
       "\n",
       "    .dataframe thead th {\n",
       "        text-align: right;\n",
       "    }\n",
       "</style>\n",
       "<table border=\"1\" class=\"dataframe\">\n",
       "  <thead>\n",
       "    <tr style=\"text-align: right;\">\n",
       "      <th></th>\n",
       "      <th>index</th>\n",
       "      <th>quality</th>\n",
       "      <th>fixed acidity</th>\n",
       "      <th>volatile acidity</th>\n",
       "      <th>citric acid</th>\n",
       "      <th>residual sugar</th>\n",
       "      <th>chlorides</th>\n",
       "      <th>free sulfur dioxide</th>\n",
       "      <th>total sulfur dioxide</th>\n",
       "      <th>density</th>\n",
       "      <th>pH</th>\n",
       "      <th>sulphates</th>\n",
       "      <th>alcohol</th>\n",
       "      <th>type</th>\n",
       "    </tr>\n",
       "  </thead>\n",
       "  <tbody>\n",
       "    <tr>\n",
       "      <th>0</th>\n",
       "      <td>0</td>\n",
       "      <td>5</td>\n",
       "      <td>5.6</td>\n",
       "      <td>0.695</td>\n",
       "      <td>0.06</td>\n",
       "      <td>6.8</td>\n",
       "      <td>0.042</td>\n",
       "      <td>9.0</td>\n",
       "      <td>84.0</td>\n",
       "      <td>0.99432</td>\n",
       "      <td>3.44</td>\n",
       "      <td>0.44</td>\n",
       "      <td>10.2</td>\n",
       "      <td>white</td>\n",
       "    </tr>\n",
       "    <tr>\n",
       "      <th>1</th>\n",
       "      <td>1</td>\n",
       "      <td>5</td>\n",
       "      <td>8.8</td>\n",
       "      <td>0.610</td>\n",
       "      <td>0.14</td>\n",
       "      <td>2.4</td>\n",
       "      <td>0.067</td>\n",
       "      <td>10.0</td>\n",
       "      <td>42.0</td>\n",
       "      <td>0.99690</td>\n",
       "      <td>3.19</td>\n",
       "      <td>0.59</td>\n",
       "      <td>9.5</td>\n",
       "      <td>red</td>\n",
       "    </tr>\n",
       "    <tr>\n",
       "      <th>2</th>\n",
       "      <td>2</td>\n",
       "      <td>5</td>\n",
       "      <td>7.9</td>\n",
       "      <td>0.210</td>\n",
       "      <td>0.39</td>\n",
       "      <td>2.0</td>\n",
       "      <td>0.057</td>\n",
       "      <td>21.0</td>\n",
       "      <td>138.0</td>\n",
       "      <td>0.99176</td>\n",
       "      <td>3.05</td>\n",
       "      <td>0.52</td>\n",
       "      <td>10.9</td>\n",
       "      <td>white</td>\n",
       "    </tr>\n",
       "    <tr>\n",
       "      <th>3</th>\n",
       "      <td>3</td>\n",
       "      <td>6</td>\n",
       "      <td>7.0</td>\n",
       "      <td>0.210</td>\n",
       "      <td>0.31</td>\n",
       "      <td>6.0</td>\n",
       "      <td>0.046</td>\n",
       "      <td>29.0</td>\n",
       "      <td>108.0</td>\n",
       "      <td>0.99390</td>\n",
       "      <td>3.26</td>\n",
       "      <td>0.50</td>\n",
       "      <td>10.8</td>\n",
       "      <td>white</td>\n",
       "    </tr>\n",
       "    <tr>\n",
       "      <th>4</th>\n",
       "      <td>4</td>\n",
       "      <td>6</td>\n",
       "      <td>7.8</td>\n",
       "      <td>0.400</td>\n",
       "      <td>0.26</td>\n",
       "      <td>9.5</td>\n",
       "      <td>0.059</td>\n",
       "      <td>32.0</td>\n",
       "      <td>178.0</td>\n",
       "      <td>0.99550</td>\n",
       "      <td>3.04</td>\n",
       "      <td>0.43</td>\n",
       "      <td>10.9</td>\n",
       "      <td>white</td>\n",
       "    </tr>\n",
       "  </tbody>\n",
       "</table>\n",
       "</div>"
      ],
      "text/plain": [
       "   index  quality  fixed acidity  volatile acidity  citric acid  \\\n",
       "0      0        5            5.6             0.695         0.06   \n",
       "1      1        5            8.8             0.610         0.14   \n",
       "2      2        5            7.9             0.210         0.39   \n",
       "3      3        6            7.0             0.210         0.31   \n",
       "4      4        6            7.8             0.400         0.26   \n",
       "\n",
       "   residual sugar  chlorides  free sulfur dioxide  total sulfur dioxide  \\\n",
       "0             6.8      0.042                  9.0                  84.0   \n",
       "1             2.4      0.067                 10.0                  42.0   \n",
       "2             2.0      0.057                 21.0                 138.0   \n",
       "3             6.0      0.046                 29.0                 108.0   \n",
       "4             9.5      0.059                 32.0                 178.0   \n",
       "\n",
       "   density    pH  sulphates  alcohol   type  \n",
       "0  0.99432  3.44       0.44     10.2  white  \n",
       "1  0.99690  3.19       0.59      9.5    red  \n",
       "2  0.99176  3.05       0.52     10.9  white  \n",
       "3  0.99390  3.26       0.50     10.8  white  \n",
       "4  0.99550  3.04       0.43     10.9  white  "
      ]
     },
     "execution_count": 3,
     "metadata": {},
     "output_type": "execute_result"
    }
   ],
   "source": [
    "train.head()"
   ]
  },
  {
   "cell_type": "markdown",
   "metadata": {},
   "source": [
    "* target 변수 = 와인 품질을 나타내는 quality. 따라서, 딥러닝 다중 분류 문제."
   ]
  },
  {
   "cell_type": "code",
   "execution_count": 4,
   "metadata": {},
   "outputs": [
    {
     "data": {
      "text/html": [
       "<div>\n",
       "<style scoped>\n",
       "    .dataframe tbody tr th:only-of-type {\n",
       "        vertical-align: middle;\n",
       "    }\n",
       "\n",
       "    .dataframe tbody tr th {\n",
       "        vertical-align: top;\n",
       "    }\n",
       "\n",
       "    .dataframe thead th {\n",
       "        text-align: right;\n",
       "    }\n",
       "</style>\n",
       "<table border=\"1\" class=\"dataframe\">\n",
       "  <thead>\n",
       "    <tr style=\"text-align: right;\">\n",
       "      <th></th>\n",
       "      <th>index</th>\n",
       "      <th>quality</th>\n",
       "    </tr>\n",
       "  </thead>\n",
       "  <tbody>\n",
       "    <tr>\n",
       "      <th>0</th>\n",
       "      <td>0</td>\n",
       "      <td>0</td>\n",
       "    </tr>\n",
       "    <tr>\n",
       "      <th>1</th>\n",
       "      <td>1</td>\n",
       "      <td>0</td>\n",
       "    </tr>\n",
       "    <tr>\n",
       "      <th>2</th>\n",
       "      <td>2</td>\n",
       "      <td>0</td>\n",
       "    </tr>\n",
       "    <tr>\n",
       "      <th>3</th>\n",
       "      <td>3</td>\n",
       "      <td>0</td>\n",
       "    </tr>\n",
       "    <tr>\n",
       "      <th>4</th>\n",
       "      <td>4</td>\n",
       "      <td>0</td>\n",
       "    </tr>\n",
       "  </tbody>\n",
       "</table>\n",
       "</div>"
      ],
      "text/plain": [
       "   index  quality\n",
       "0      0        0\n",
       "1      1        0\n",
       "2      2        0\n",
       "3      3        0\n",
       "4      4        0"
      ]
     },
     "execution_count": 4,
     "metadata": {},
     "output_type": "execute_result"
    }
   ],
   "source": [
    "submission.head()"
   ]
  },
  {
   "cell_type": "code",
   "execution_count": 5,
   "metadata": {},
   "outputs": [
    {
     "data": {
      "text/plain": [
       "white    4159\n",
       "red      1338\n",
       "Name: type, dtype: int64"
      ]
     },
     "execution_count": 5,
     "metadata": {},
     "output_type": "execute_result"
    }
   ],
   "source": [
    "# 범주형 데이터의 숫자형 데이터로 변환\n",
    "\n",
    "train['type'].value_counts()"
   ]
  },
  {
   "cell_type": "code",
   "execution_count": 6,
   "metadata": {},
   "outputs": [
    {
     "data": {
      "text/plain": [
       "1    4159\n",
       "0    1338\n",
       "Name: type, dtype: int64"
      ]
     },
     "execution_count": 6,
     "metadata": {},
     "output_type": "execute_result"
    }
   ],
   "source": [
    "train['type']=np.where(train['type']=='white',1,0).astype(int)\n",
    "test['type']=np.where(test['type']=='white',1,0).astype(int)\n",
    "train['type'].value_counts()"
   ]
  },
  {
   "cell_type": "markdown",
   "metadata": {},
   "source": [
    "* 모델 학습에 입력하려면 숫자형 데이터로 변환해야한다.\n",
    "* 머신러닝 파트에서 다룬 LabelEncoder을 사용하는 레이블 인코딩 방법도 있다."
   ]
  },
  {
   "cell_type": "code",
   "execution_count": 8,
   "metadata": {},
   "outputs": [
    {
     "data": {
      "text/plain": [
       "6    2416\n",
       "5    1788\n",
       "7     924\n",
       "4     186\n",
       "8     152\n",
       "3      26\n",
       "9       5\n",
       "Name: quality, dtype: int64"
      ]
     },
     "execution_count": 8,
     "metadata": {},
     "output_type": "execute_result"
    }
   ],
   "source": [
    "# 목표 변수 quality 열의 데이터 개수 확인.\n",
    "\n",
    "train['quality'].value_counts()"
   ]
  },
  {
   "cell_type": "markdown",
   "metadata": {},
   "source": [
    "* 목표 변수는 연속형 숫자 데이터가 아니라, 와인 등급을 나타내는 범주형 데이터이다.\n",
    "* keras to_categorical 함수를 이용하여 목표 변수를 원 핫 인코딩 변환한다."
   ]
  },
  {
   "cell_type": "code",
   "execution_count": 10,
   "metadata": {},
   "outputs": [
    {
     "data": {
      "text/plain": [
       "array([[0., 0., 1., ..., 0., 0., 0.],\n",
       "       [0., 0., 1., ..., 0., 0., 0.],\n",
       "       [0., 0., 1., ..., 0., 0., 0.],\n",
       "       ...,\n",
       "       [0., 0., 0., ..., 1., 0., 0.],\n",
       "       [0., 0., 1., ..., 0., 0., 0.],\n",
       "       [0., 0., 0., ..., 0., 0., 0.]], dtype=float32)"
      ]
     },
     "execution_count": 10,
     "metadata": {},
     "output_type": "execute_result"
    }
   ],
   "source": [
    "# 3~9 범위 값으로 원핫 인코딩을 하면 숫자 0부터 최대값인 9까지 10개의 클래스로 인식한다.\n",
    "# 따라서, 와인 등급을 0~6 범위로 바꾼다.\n",
    "\n",
    "from tensorflow.keras.utils import to_categorical\n",
    "\n",
    "y_train=to_categorical(train.loc[:,'quality']-3)\n",
    "y_train"
   ]
  },
  {
   "cell_type": "code",
   "execution_count": 11,
   "metadata": {},
   "outputs": [
    {
     "name": "stdout",
     "output_type": "stream",
     "text": [
      "(5497, 12) (5497, 7)\n",
      "(1000, 12)\n"
     ]
    }
   ],
   "source": [
    "# 모델 학습에 사용할 피처를 선택하고, MinMax 스케일링으로 모든 피처 변수의 데이터를 0 ~ 1범위로 정규화 변환한다.\n",
    "\n",
    "# 피처 선택(target 제외 피처변수들)\n",
    "\n",
    "x_train=train.loc[:,'fixed acidity':]\n",
    "x_test=test.loc[:,'fixed acidity':]\n",
    "\n",
    "# 피처 스케일링\n",
    "from sklearn.preprocessing import MinMaxScaler\n",
    "scaler=MinMaxScaler()\n",
    "scaler.fit(x_train)\n",
    "x_train_scaled=scaler.fit_transform(x_train)\n",
    "x_test_scaled=scaler.fit_transform(x_test)\n",
    "\n",
    "print(x_train_scaled.shape,y_train.shape)\n",
    "print(x_test_scaled.shape)"
   ]
  },
  {
   "cell_type": "code",
   "execution_count": 12,
   "metadata": {},
   "outputs": [
    {
     "data": {
      "text/plain": [
       "12"
      ]
     },
     "execution_count": 12,
     "metadata": {},
     "output_type": "execute_result"
    }
   ],
   "source": [
    "x_train_scaled.shape[1]"
   ]
  },
  {
   "cell_type": "code",
   "execution_count": 14,
   "metadata": {},
   "outputs": [
    {
     "data": {
      "text/plain": [
       "7"
      ]
     },
     "execution_count": 14,
     "metadata": {},
     "output_type": "execute_result"
    }
   ],
   "source": [
    "y_train.shape[1]"
   ]
  },
  {
   "cell_type": "markdown",
   "metadata": {},
   "source": [
    "# 모델 설계 : 드랍아웃 활용"
   ]
  },
  {
   "cell_type": "code",
   "execution_count": 15,
   "metadata": {},
   "outputs": [],
   "source": [
    "# 심층 신경망 모델\n",
    "from tensorflow.keras import Sequential\n",
    "from tensorflow.keras.layers import Dense, Dropout\n",
    "\n",
    "def build_model(train_data,train_target):\n",
    "    model=Sequential()\n",
    "    model.add(Dense(128,activation='tanh',input_dim=train_data.shape[1]))\n",
    "    model.add(Dropout(0.2))\n",
    "    model.add(Dense(64,activation='tanh'))\n",
    "    model.add(Dropout(0.2))\n",
    "    model.add(Dense(32,activation='tanh'))\n",
    "    model.add(Dense(train_target.shape[1],activation='softmax'))\n",
    "    \n",
    "    model.compile(optimizer='RMSProp',loss='categorical_crossentropy',metrics=['acc','mae'])\n",
    "    \n",
    "    return model"
   ]
  },
  {
   "cell_type": "code",
   "execution_count": 17,
   "metadata": {},
   "outputs": [
    {
     "name": "stdout",
     "output_type": "stream",
     "text": [
      "Model: \"sequential\"\n",
      "_________________________________________________________________\n",
      "Layer (type)                 Output Shape              Param #   \n",
      "=================================================================\n",
      "dense (Dense)                (None, 128)               1664      \n",
      "_________________________________________________________________\n",
      "dropout (Dropout)            (None, 128)               0         \n",
      "_________________________________________________________________\n",
      "dense_1 (Dense)              (None, 64)                8256      \n",
      "_________________________________________________________________\n",
      "dropout_1 (Dropout)          (None, 64)                0         \n",
      "_________________________________________________________________\n",
      "dense_2 (Dense)              (None, 32)                2080      \n",
      "_________________________________________________________________\n",
      "dense_3 (Dense)              (None, 7)                 231       \n",
      "=================================================================\n",
      "Total params: 12,231\n",
      "Trainable params: 12,231\n",
      "Non-trainable params: 0\n",
      "_________________________________________________________________\n"
     ]
    }
   ],
   "source": [
    "model=build_model(x_train_scaled,y_train)\n",
    "model.summary()"
   ]
  },
  {
   "cell_type": "markdown",
   "metadata": {},
   "source": [
    "# 4-3. 콜백 함수 : Early Stopping 기법"
   ]
  },
  {
   "cell_type": "code",
   "execution_count": 19,
   "metadata": {},
   "outputs": [
    {
     "name": "stdout",
     "output_type": "stream",
     "text": [
      "Epoch 1/200\n",
      "73/73 - 1s - loss: 1.3005 - acc: 0.4574 - mae: 0.1930 - val_loss: 1.1688 - val_acc: 0.5055 - val_mae: 0.1808\n",
      "Epoch 2/200\n",
      "73/73 - 0s - loss: 1.1752 - acc: 0.5015 - mae: 0.1779 - val_loss: 1.1034 - val_acc: 0.5430 - val_mae: 0.1732\n",
      "Epoch 3/200\n",
      "73/73 - 0s - loss: 1.1449 - acc: 0.5169 - mae: 0.1742 - val_loss: 1.0814 - val_acc: 0.5442 - val_mae: 0.1681\n",
      "Epoch 4/200\n",
      "73/73 - 0s - loss: 1.1285 - acc: 0.5210 - mae: 0.1719 - val_loss: 1.1267 - val_acc: 0.5042 - val_mae: 0.1698\n",
      "Epoch 5/200\n",
      "73/73 - 0s - loss: 1.1177 - acc: 0.5330 - mae: 0.1709 - val_loss: 1.0708 - val_acc: 0.5564 - val_mae: 0.1680\n",
      "Epoch 6/200\n",
      "73/73 - 0s - loss: 1.1098 - acc: 0.5240 - mae: 0.1712 - val_loss: 1.0613 - val_acc: 0.5539 - val_mae: 0.1667\n",
      "Epoch 7/200\n",
      "73/73 - 0s - loss: 1.1028 - acc: 0.5291 - mae: 0.1704 - val_loss: 1.0571 - val_acc: 0.5503 - val_mae: 0.1658\n",
      "Epoch 8/200\n",
      "73/73 - 0s - loss: 1.0996 - acc: 0.5216 - mae: 0.1700 - val_loss: 1.0612 - val_acc: 0.5576 - val_mae: 0.1655\n",
      "Epoch 9/200\n",
      "73/73 - 0s - loss: 1.1007 - acc: 0.5334 - mae: 0.1693 - val_loss: 1.0609 - val_acc: 0.5588 - val_mae: 0.1666\n",
      "Epoch 10/200\n",
      "73/73 - 0s - loss: 1.0927 - acc: 0.5293 - mae: 0.1692 - val_loss: 1.0612 - val_acc: 0.5370 - val_mae: 0.1684\n",
      "Epoch 11/200\n",
      "73/73 - 0s - loss: 1.0888 - acc: 0.5357 - mae: 0.1687 - val_loss: 1.0508 - val_acc: 0.5333 - val_mae: 0.1643\n",
      "Epoch 12/200\n",
      "73/73 - 0s - loss: 1.0894 - acc: 0.5265 - mae: 0.1689 - val_loss: 1.0499 - val_acc: 0.5552 - val_mae: 0.1659\n",
      "Epoch 13/200\n",
      "73/73 - 0s - loss: 1.0859 - acc: 0.5302 - mae: 0.1682 - val_loss: 1.0512 - val_acc: 0.5479 - val_mae: 0.1672\n",
      "Epoch 14/200\n",
      "73/73 - 0s - loss: 1.0813 - acc: 0.5400 - mae: 0.1682 - val_loss: 1.0457 - val_acc: 0.5527 - val_mae: 0.1639\n",
      "Epoch 15/200\n",
      "73/73 - 0s - loss: 1.0827 - acc: 0.5353 - mae: 0.1680 - val_loss: 1.0499 - val_acc: 0.5515 - val_mae: 0.1654\n",
      "Epoch 16/200\n",
      "73/73 - 0s - loss: 1.0821 - acc: 0.5372 - mae: 0.1677 - val_loss: 1.0494 - val_acc: 0.5467 - val_mae: 0.1643\n",
      "Epoch 17/200\n",
      "73/73 - 0s - loss: 1.0812 - acc: 0.5349 - mae: 0.1679 - val_loss: 1.0466 - val_acc: 0.5588 - val_mae: 0.1670\n",
      "Epoch 18/200\n",
      "73/73 - 0s - loss: 1.0789 - acc: 0.5360 - mae: 0.1683 - val_loss: 1.0464 - val_acc: 0.5552 - val_mae: 0.1667\n",
      "Epoch 19/200\n",
      "73/73 - 0s - loss: 1.0792 - acc: 0.5396 - mae: 0.1678 - val_loss: 1.0375 - val_acc: 0.5600 - val_mae: 0.1642\n",
      "Epoch 20/200\n",
      "73/73 - 0s - loss: 1.0743 - acc: 0.5432 - mae: 0.1674 - val_loss: 1.0355 - val_acc: 0.5600 - val_mae: 0.1641\n",
      "Epoch 21/200\n",
      "73/73 - 0s - loss: 1.0720 - acc: 0.5405 - mae: 0.1668 - val_loss: 1.0395 - val_acc: 0.5539 - val_mae: 0.1654\n",
      "Epoch 22/200\n",
      "73/73 - 0s - loss: 1.0735 - acc: 0.5390 - mae: 0.1673 - val_loss: 1.0492 - val_acc: 0.5309 - val_mae: 0.1650\n",
      "Epoch 23/200\n",
      "73/73 - 0s - loss: 1.0739 - acc: 0.5424 - mae: 0.1672 - val_loss: 1.0418 - val_acc: 0.5673 - val_mae: 0.1639\n",
      "Epoch 24/200\n",
      "73/73 - 0s - loss: 1.0688 - acc: 0.5445 - mae: 0.1662 - val_loss: 1.0342 - val_acc: 0.5527 - val_mae: 0.1652\n",
      "Epoch 25/200\n",
      "73/73 - 0s - loss: 1.0670 - acc: 0.5437 - mae: 0.1666 - val_loss: 1.0323 - val_acc: 0.5624 - val_mae: 0.1620\n",
      "Epoch 26/200\n",
      "73/73 - 0s - loss: 1.0643 - acc: 0.5447 - mae: 0.1660 - val_loss: 1.0496 - val_acc: 0.5418 - val_mae: 0.1650\n",
      "Epoch 27/200\n",
      "73/73 - 0s - loss: 1.0618 - acc: 0.5441 - mae: 0.1659 - val_loss: 1.0435 - val_acc: 0.5455 - val_mae: 0.1635\n",
      "Epoch 28/200\n",
      "73/73 - 0s - loss: 1.0621 - acc: 0.5497 - mae: 0.1657 - val_loss: 1.0335 - val_acc: 0.5479 - val_mae: 0.1634\n",
      "Epoch 29/200\n",
      "73/73 - 0s - loss: 1.0614 - acc: 0.5486 - mae: 0.1656 - val_loss: 1.0344 - val_acc: 0.5576 - val_mae: 0.1640\n",
      "Epoch 30/200\n",
      "73/73 - 0s - loss: 1.0569 - acc: 0.5439 - mae: 0.1657 - val_loss: 1.0313 - val_acc: 0.5503 - val_mae: 0.1604\n",
      "Epoch 31/200\n",
      "73/73 - 0s - loss: 1.0578 - acc: 0.5464 - mae: 0.1649 - val_loss: 1.0361 - val_acc: 0.5770 - val_mae: 0.1635\n",
      "Epoch 32/200\n",
      "73/73 - 0s - loss: 1.0492 - acc: 0.5554 - mae: 0.1643 - val_loss: 1.0363 - val_acc: 0.5479 - val_mae: 0.1639\n",
      "Epoch 33/200\n",
      "73/73 - 0s - loss: 1.0566 - acc: 0.5454 - mae: 0.1653 - val_loss: 1.0344 - val_acc: 0.5576 - val_mae: 0.1633\n",
      "Epoch 34/200\n",
      "73/73 - 0s - loss: 1.0551 - acc: 0.5477 - mae: 0.1649 - val_loss: 1.0279 - val_acc: 0.5600 - val_mae: 0.1619\n",
      "Epoch 35/200\n",
      "73/73 - 0s - loss: 1.0490 - acc: 0.5546 - mae: 0.1640 - val_loss: 1.0307 - val_acc: 0.5648 - val_mae: 0.1623\n",
      "Epoch 36/200\n",
      "73/73 - 0s - loss: 1.0525 - acc: 0.5520 - mae: 0.1645 - val_loss: 1.0345 - val_acc: 0.5661 - val_mae: 0.1634\n",
      "Epoch 37/200\n",
      "73/73 - 0s - loss: 1.0467 - acc: 0.5486 - mae: 0.1635 - val_loss: 1.0300 - val_acc: 0.5467 - val_mae: 0.1625\n",
      "Epoch 38/200\n",
      "73/73 - 0s - loss: 1.0476 - acc: 0.5533 - mae: 0.1641 - val_loss: 1.0282 - val_acc: 0.5491 - val_mae: 0.1609\n",
      "Epoch 39/200\n",
      "73/73 - 0s - loss: 1.0476 - acc: 0.5518 - mae: 0.1635 - val_loss: 1.0271 - val_acc: 0.5539 - val_mae: 0.1615\n",
      "Epoch 40/200\n",
      "73/73 - 0s - loss: 1.0460 - acc: 0.5516 - mae: 0.1640 - val_loss: 1.0331 - val_acc: 0.5806 - val_mae: 0.1626\n",
      "Epoch 41/200\n",
      "73/73 - 0s - loss: 1.0491 - acc: 0.5509 - mae: 0.1640 - val_loss: 1.0291 - val_acc: 0.5794 - val_mae: 0.1610\n",
      "Epoch 42/200\n",
      "73/73 - 0s - loss: 1.0430 - acc: 0.5531 - mae: 0.1632 - val_loss: 1.0354 - val_acc: 0.5830 - val_mae: 0.1646\n",
      "Epoch 43/200\n",
      "73/73 - 0s - loss: 1.0465 - acc: 0.5512 - mae: 0.1640 - val_loss: 1.0362 - val_acc: 0.5479 - val_mae: 0.1625\n",
      "Epoch 44/200\n",
      "73/73 - 0s - loss: 1.0454 - acc: 0.5518 - mae: 0.1643 - val_loss: 1.0244 - val_acc: 0.5648 - val_mae: 0.1610\n",
      "Epoch 45/200\n",
      "73/73 - 0s - loss: 1.0444 - acc: 0.5486 - mae: 0.1637 - val_loss: 1.0311 - val_acc: 0.5648 - val_mae: 0.1616\n",
      "Epoch 46/200\n",
      "73/73 - 0s - loss: 1.0445 - acc: 0.5524 - mae: 0.1641 - val_loss: 1.0260 - val_acc: 0.5539 - val_mae: 0.1600\n",
      "Epoch 47/200\n",
      "73/73 - 0s - loss: 1.0426 - acc: 0.5503 - mae: 0.1634 - val_loss: 1.0409 - val_acc: 0.5709 - val_mae: 0.1620\n",
      "Epoch 48/200\n",
      "73/73 - 0s - loss: 1.0411 - acc: 0.5533 - mae: 0.1631 - val_loss: 1.0284 - val_acc: 0.5552 - val_mae: 0.1600\n",
      "Epoch 49/200\n",
      "73/73 - 0s - loss: 1.0345 - acc: 0.5512 - mae: 0.1626 - val_loss: 1.0259 - val_acc: 0.5648 - val_mae: 0.1609\n",
      "Epoch 50/200\n",
      "73/73 - 0s - loss: 1.0407 - acc: 0.5533 - mae: 0.1632 - val_loss: 1.0260 - val_acc: 0.5588 - val_mae: 0.1617\n",
      "Epoch 51/200\n",
      "73/73 - 0s - loss: 1.0401 - acc: 0.5557 - mae: 0.1631 - val_loss: 1.0282 - val_acc: 0.5782 - val_mae: 0.1613\n",
      "Epoch 52/200\n",
      "73/73 - 0s - loss: 1.0409 - acc: 0.5569 - mae: 0.1631 - val_loss: 1.0411 - val_acc: 0.5527 - val_mae: 0.1639\n",
      "Epoch 53/200\n",
      "73/73 - 0s - loss: 1.0379 - acc: 0.5531 - mae: 0.1632 - val_loss: 1.0257 - val_acc: 0.5673 - val_mae: 0.1608\n",
      "Epoch 54/200\n",
      "73/73 - 0s - loss: 1.0376 - acc: 0.5567 - mae: 0.1627 - val_loss: 1.0265 - val_acc: 0.5576 - val_mae: 0.1614\n"
     ]
    }
   ],
   "source": [
    "# Early stopping 기법 : 과대 적합 방지, 검증 데이터의 손실함수가 감소하지 않기 시작할때, 모델 학습을 중단.\n",
    "\n",
    "from sklearn.model_selection import train_test_split\n",
    "from tensorflow.keras.callbacks import EarlyStopping\n",
    "\n",
    "x_tr,x_val,y_tr,y_val=train_test_split(x_train_scaled,y_train,test_size=0.15,\n",
    "                                      shuffle=True,random_state=SEED)\n",
    "\n",
    "early_stopping=EarlyStopping(monitor='val_loss', patience=10) # patience가 epoch 10회 반복되는 동안 손실함수가 감소하지 않으면 학습을 멈춘다.\n",
    "history=model.fit(x_tr,y_tr,batch_size=64,epochs=200,\n",
    "                 validation_data=(x_val,y_val),\n",
    "                 callbacks=[early_stopping],\n",
    "                 verbose=2)"
   ]
  },
  {
   "cell_type": "code",
   "execution_count": 20,
   "metadata": {},
   "outputs": [
    {
     "name": "stdout",
     "output_type": "stream",
     "text": [
      "26/26 [==============================] - 0s 959us/step - loss: 1.0265 - acc: 0.5576 - mae: 0.1614\n"
     ]
    },
    {
     "data": {
      "text/plain": [
       "[1.026451826095581, 0.5575757622718811, 0.16143734753131866]"
      ]
     },
     "execution_count": 20,
     "metadata": {},
     "output_type": "execute_result"
    }
   ],
   "source": [
    "# val_loss, val_acc, val_mae 값 반환\n",
    "model.evaluate(x_val,y_val)"
   ]
  },
  {
   "cell_type": "code",
   "execution_count": 21,
   "metadata": {},
   "outputs": [
    {
     "data": {
      "text/plain": [
       "array([[0.14640701, 0.02422137, 0.10052606, 0.06059574, 0.12745844,\n",
       "        0.49287596, 0.04791538],\n",
       "       [0.07843959, 0.00263109, 0.01299645, 0.02802715, 0.12971562,\n",
       "        0.51961535, 0.22857478],\n",
       "       [0.1974192 , 0.07493019, 0.26500374, 0.14723289, 0.06576081,\n",
       "        0.21707143, 0.03258163],\n",
       "       [0.17468645, 0.08192883, 0.27029353, 0.1755149 , 0.07622779,\n",
       "        0.19794759, 0.02340088],\n",
       "       [0.11724108, 0.01547755, 0.06363828, 0.06544021, 0.08472515,\n",
       "        0.5647171 , 0.08876064]], dtype=float32)"
      ]
     },
     "execution_count": 21,
     "metadata": {},
     "output_type": "execute_result"
    }
   ],
   "source": [
    "# test 데이터에 대한 예측값 정리\n",
    "y_pred_proba=model.predict(x_test)\n",
    "y_pred_proba[:5]"
   ]
  },
  {
   "cell_type": "code",
   "execution_count": 22,
   "metadata": {},
   "outputs": [
    {
     "data": {
      "text/plain": [
       "(1000, 7)"
      ]
     },
     "execution_count": 22,
     "metadata": {},
     "output_type": "execute_result"
    }
   ],
   "source": [
    "y_pred_proba.shape"
   ]
  },
  {
   "cell_type": "code",
   "execution_count": 23,
   "metadata": {},
   "outputs": [
    {
     "data": {
      "text/plain": [
       "array([8, 8, 5, 5, 8], dtype=int64)"
      ]
     },
     "execution_count": 23,
     "metadata": {},
     "output_type": "execute_result"
    }
   ],
   "source": [
    "y_pred_label=np.argmax(y_pred_proba,axis=-1)+3\n",
    "y_pred_label[:5]"
   ]
  },
  {
   "cell_type": "code",
   "execution_count": 24,
   "metadata": {},
   "outputs": [
    {
     "data": {
      "text/html": [
       "<div>\n",
       "<style scoped>\n",
       "    .dataframe tbody tr th:only-of-type {\n",
       "        vertical-align: middle;\n",
       "    }\n",
       "\n",
       "    .dataframe tbody tr th {\n",
       "        vertical-align: top;\n",
       "    }\n",
       "\n",
       "    .dataframe thead th {\n",
       "        text-align: right;\n",
       "    }\n",
       "</style>\n",
       "<table border=\"1\" class=\"dataframe\">\n",
       "  <thead>\n",
       "    <tr style=\"text-align: right;\">\n",
       "      <th></th>\n",
       "      <th>index</th>\n",
       "      <th>quality</th>\n",
       "    </tr>\n",
       "  </thead>\n",
       "  <tbody>\n",
       "    <tr>\n",
       "      <th>0</th>\n",
       "      <td>0</td>\n",
       "      <td>8</td>\n",
       "    </tr>\n",
       "    <tr>\n",
       "      <th>1</th>\n",
       "      <td>1</td>\n",
       "      <td>8</td>\n",
       "    </tr>\n",
       "    <tr>\n",
       "      <th>2</th>\n",
       "      <td>2</td>\n",
       "      <td>5</td>\n",
       "    </tr>\n",
       "    <tr>\n",
       "      <th>3</th>\n",
       "      <td>3</td>\n",
       "      <td>5</td>\n",
       "    </tr>\n",
       "    <tr>\n",
       "      <th>4</th>\n",
       "      <td>4</td>\n",
       "      <td>8</td>\n",
       "    </tr>\n",
       "  </tbody>\n",
       "</table>\n",
       "</div>"
      ],
      "text/plain": [
       "   index  quality\n",
       "0      0        8\n",
       "1      1        8\n",
       "2      2        5\n",
       "3      3        5\n",
       "4      4        8"
      ]
     },
     "execution_count": 24,
     "metadata": {},
     "output_type": "execute_result"
    }
   ],
   "source": [
    "# 제출 양식에 맞게 정리\n",
    "submission['quality']=y_pred_label.astype(int)\n",
    "submission.head()"
   ]
  },
  {
   "cell_type": "code",
   "execution_count": 25,
   "metadata": {},
   "outputs": [],
   "source": [
    "submission.to_csv('wine_dnn_001.csv',index=False)"
   ]
  },
  {
   "cell_type": "code",
   "execution_count": null,
   "metadata": {},
   "outputs": [],
   "source": []
  }
 ],
 "metadata": {
  "kernelspec": {
   "display_name": "Python 3",
   "language": "python",
   "name": "python3"
  },
  "language_info": {
   "codemirror_mode": {
    "name": "ipython",
    "version": 3
   },
   "file_extension": ".py",
   "mimetype": "text/x-python",
   "name": "python",
   "nbconvert_exporter": "python",
   "pygments_lexer": "ipython3",
   "version": "3.8.5"
  }
 },
 "nbformat": 4,
 "nbformat_minor": 4
}
