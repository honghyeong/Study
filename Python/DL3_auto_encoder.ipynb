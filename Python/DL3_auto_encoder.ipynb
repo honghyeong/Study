{
 "cells": [
  {
   "cell_type": "code",
   "execution_count": 1,
   "metadata": {},
   "outputs": [],
   "source": [
    "# 라이브러리 설정\n",
    "import pandas as pd\n",
    "import numpy as np\n",
    "import tensorflow as tf\n",
    "import matplotlib.pyplot as plt\n",
    "import random\n",
    "\n",
    "from tensorflow.keras.models import Sequential\n",
    "from tensorflow.keras.layers import Flatten,Dense,Dropout\n",
    "from tensorflow.keras.layers import Conv2D, MaxPooling2D,Reshape\n",
    "\n",
    "# 랜덤 시드 고정\n",
    "SEED=12\n",
    "random.seed(SEED)\n",
    "np.random.seed(SEED)\n",
    "tf.random.set_seed(SEED)\n"
   ]
  },
  {
   "cell_type": "code",
   "execution_count": 2,
   "metadata": {},
   "outputs": [
    {
     "name": "stdout",
     "output_type": "stream",
     "text": [
      "Downloading data from https://storage.googleapis.com/tensorflow/tf-keras-datasets/train-labels-idx1-ubyte.gz\n",
      "32768/29515 [=================================] - 0s 0us/step\n",
      "Downloading data from https://storage.googleapis.com/tensorflow/tf-keras-datasets/train-images-idx3-ubyte.gz\n",
      "26427392/26421880 [==============================] - 6s 0us/step\n",
      "Downloading data from https://storage.googleapis.com/tensorflow/tf-keras-datasets/t10k-labels-idx1-ubyte.gz\n",
      "8192/5148 [===============================================] - 0s 0us/step\n",
      "Downloading data from https://storage.googleapis.com/tensorflow/tf-keras-datasets/t10k-images-idx3-ubyte.gz\n",
      "4423680/4422102 [==============================] - 1s 0us/step\n",
      "(60000, 28, 28, 1) (60000,) (10000, 28, 28, 1) (10000,)\n"
     ]
    }
   ],
   "source": [
    "# 케라스에서 데이터셋 불러오기\n",
    "from tensorflow.keras import datasets\n",
    "fashion_mnist=datasets.fashion_mnist\n",
    "(x_train,y_train),(x_test,y_test)=fashion_mnist.load_data()\n",
    "\n",
    "# 피처 스케일링\n",
    "x_train=x_train/255\n",
    "x_test=x_test/255\n",
    "\n",
    "# 차원 추가\n",
    "x_train=np.expand_dims(x_train,axis=-1)\n",
    "x_test=np.expand_dims(x_test,axis=-1)\n",
    "\n",
    "print(x_train.shape,y_train.shape,x_test.shape,y_test.shape)"
   ]
  },
  {
   "cell_type": "code",
   "execution_count": 11,
   "metadata": {},
   "outputs": [
    {
     "name": "stdout",
     "output_type": "stream",
     "text": [
      "Model: \"sequential_1\"\n",
      "_________________________________________________________________\n",
      "Layer (type)                 Output Shape              Param #   \n",
      "=================================================================\n",
      "conv2d_1 (Conv2D)            (None, 26, 26, 16)        160       \n",
      "_________________________________________________________________\n",
      "max_pooling2d_1 (MaxPooling2 (None, 13, 13, 16)        0         \n",
      "_________________________________________________________________\n",
      "flatten_1 (Flatten)          (None, 2704)              0         \n",
      "_________________________________________________________________\n",
      "dense_2 (Dense)              (None, 64)                173120    \n",
      "_________________________________________________________________\n",
      "dense_3 (Dense)              (None, 784)               50960     \n",
      "_________________________________________________________________\n",
      "reshape (Reshape)            (None, 28, 28)            0         \n",
      "=================================================================\n",
      "Total params: 224,240\n",
      "Trainable params: 224,240\n",
      "Non-trainable params: 0\n",
      "_________________________________________________________________\n"
     ]
    }
   ],
   "source": [
    "# 오토인코더 모델 정의\n",
    "\n",
    "def Autoencoder():\n",
    "    \n",
    "    model=Sequential()\n",
    "    \n",
    "    #Encoder 부분\n",
    "    model.add(Conv2D(filters=16,kernel_size=(3,3),\n",
    "                    activation='relu',input_shape=[28,28,1]))\n",
    "    model.add(MaxPooling2D(pool_size=(2,2)))\n",
    "    model.add(Flatten())\n",
    "    model.add(Dense(64,activation='relu'))\n",
    "    \n",
    "    #Decoder 부분\n",
    "    model.add(Dense(units=28*28,activation='sigmoid'))\n",
    "    model.add(Reshape((28,28)))\n",
    "    \n",
    "    #compile\n",
    "    model.compile(optimizer='adam',\n",
    "                 loss='mean_squared_error')\n",
    "    \n",
    "    return model\n",
    "\n",
    "ae_model=Autoencoder()\n",
    "ae_model.summary()"
   ]
  },
  {
   "cell_type": "code",
   "execution_count": 14,
   "metadata": {},
   "outputs": [
    {
     "data": {
      "text/plain": [
       "(10000, 28, 28)"
      ]
     },
     "execution_count": 14,
     "metadata": {},
     "output_type": "execute_result"
    }
   ],
   "source": [
    "history=ae_model.fit(x_train,x_train,batch_size=64,epochs=20,\n",
    "                    validation_data=(x_test,x_test),\n",
    "                    verbose=0)\n",
    "\n",
    "ae_images=ae_model.predict(x_test)\n",
    "ae_images.shape"
   ]
  },
  {
   "cell_type": "code",
   "execution_count": 15,
   "metadata": {},
   "outputs": [
    {
     "data": {
      "image/png": "[encoded data removed]",
      "text/plain": [
       "<Figure size 1440x576 with 10 Axes>"
      ]
     },
     "metadata": {
      "needs_background": "light"
     },
     "output_type": "display_data"
    }
   ],
   "source": [
    "num=5\n",
    "plt.figure(figsize=(20,8))\n",
    "\n",
    "for i in range(num):\n",
    "    \n",
    "    # 원본 이미지\n",
    "    ax=plt.subplot(2,num,i+1)\n",
    "    plt.imshow(x_test[i].reshape((28,28)),cmap='gray')\n",
    "    plt.title(\"Original %s\"%str(i))\n",
    "    plt.axis('off')\n",
    "    \n",
    "    # 복원 이미지\n",
    "    ax=plt.subplot(2,num,i+num+1)\n",
    "    plt.imshow(ae_images[i].reshape((28,28)),cmap='gray')\n",
    "    plt.title(\"Auto-encoded %s\"%str(i))\n",
    "    plt.axis('off')\n",
    "    \n",
    "plt.show()"
   ]
  },
  {
   "cell_type": "code",
   "execution_count": null,
   "metadata": {},
   "outputs": [],
   "source": []
  }
 ],
 "metadata": {
  "kernelspec": {
   "display_name": "Python 3",
   "language": "python",
   "name": "python3"
  },
  "language_info": {
   "codemirror_mode": {
    "name": "ipython",
    "version": 3
   },
   "file_extension": ".py",
   "mimetype": "text/x-python",
   "name": "python",
   "nbconvert_exporter": "python",
   "pygments_lexer": "ipython3",
   "version": "3.8.5"
  }
 },
 "nbformat": 4,
 "nbformat_minor": 4
}
